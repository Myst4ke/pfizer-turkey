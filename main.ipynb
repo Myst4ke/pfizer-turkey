{
 "cells": [
  {
   "cell_type": "markdown",
   "metadata": {},
   "source": [
    "# Assigning Regions to Sale Representatives at Pfizer Turkey \n"
   ]
  },
  {
   "cell_type": "code",
   "execution_count": 126,
   "metadata": {},
   "outputs": [],
   "source": [
    "import pandas as pd\n",
    "import numpy as np\n",
    "from ortools.linear_solver import pywraplp\n",
    "import json\n",
    "import collections\n",
    "\n",
    "assignment = pd.read_csv(\"assignment.csv\")\n",
    "distances = pd.read_csv(\"brick_rp_distances.csv\")\n",
    "workload = pd.read_csv(\"bricks_index_values.csv\")"
   ]
  },
  {
   "cell_type": "code",
   "execution_count": 127,
   "metadata": {},
   "outputs": [],
   "source": [
    "def str_to_list(to_cast):\n",
    "    return json.loads(to_cast)"
   ]
  },
  {
   "cell_type": "code",
   "execution_count": 135,
   "metadata": {},
   "outputs": [],
   "source": [
    "def create_init_assign_matrix(assignments):\n",
    "    assignment_d = {}\n",
    "    for i in range(4):\n",
    "        x = assignment[assignment[\"SR#\"] == (i+1)]\n",
    "        for brick in str_to_list(x[\"Bricks_Assigned\"][i]):\n",
    "            assignment_d[brick] = i + 1\n",
    "    sorted_dict = dict(sorted(assignment_d.items()))\n",
    "    matrix = [[int((i+1) == sorted_dict[k])for i in range(4)] for k in sorted_dict.keys()]\n",
    "    return matrix"
   ]
  },
  {
   "cell_type": "code",
   "execution_count": 136,
   "metadata": {},
   "outputs": [],
   "source": [
    "def create_index_value_matrix(bricks_index_values):\n",
    "    index_dict = bricks_index_values.set_index(\"brick\").T.to_dict('list')\n",
    "    sorted_dict = dict(sorted(index_dict.items()))\n",
    "    return [[float(sorted_dict[index][0]), float(sorted_dict[index][0]), float(sorted_dict[index][0]), float(sorted_dict[index][0])] for index in sorted_dict.keys()]"
   ]
  },
  {
   "cell_type": "code",
   "execution_count": 137,
   "metadata": {},
   "outputs": [],
   "source": [
    "def create_distances_matrix(distances):\n",
    "    distances_dict = distances.set_index(\"brick\").T.to_dict('list')\n",
    "    sorted_dict = dict(sorted(distances_dict.items()))\n",
    "    return [sorted_dict[index] for index in sorted_dict.keys()]"
   ]
  },
  {
   "cell_type": "code",
   "execution_count": 249,
   "metadata": {},
   "outputs": [],
   "source": [
    "# Create the mip solver with the CP-SAT backend.\n",
    "solver = pywraplp.Solver.CreateSolver(\"SCIP\")\n",
    "if not solver:\n",
    "    print(\"Problème lors de la création du solveur\")\n",
    "\n",
    "# Values for constraints\n",
    "num_sr = 4\n",
    "num_bricks = len(distances_matrix)\n",
    "min_workload = 0.8\n",
    "max_workload = 1.2\n",
    "init_state_matrix = create_init_assign_matrix(assignment)\n",
    "index_value_matrix = create_index_value_matrix(workload)\n",
    "distances_matrix = create_distances_matrix(distances)\n",
    "hq_bricks = [3,13,15,21]\n",
    "\n",
    "# Boolean variables\n",
    "x = {}\n",
    "for brick in range(num_bricks):\n",
    "    for sr in range(num_sr):\n",
    "        x[brick, sr] = solver.BoolVar(f\"x[{brick},{sr}]\")\n",
    "\n",
    "# Add constraints\n",
    "# One brick to one SR and one SR to one brick\n",
    "for brick in range(num_bricks):\n",
    "    solver.Add(solver.Sum([x[brick, sr] for sr in range(num_sr)]) == 1)\n",
    "\n",
    "# The cental brick for an SR cannot change\n",
    "for sr in range(num_sr):\n",
    "    solver.Add(solver.Sum(x[hq, sr] for hq in hq_bricks) == 1)\n",
    "\n",
    "# Balance workload (min and max)\n",
    "for sr in range(num_sr):\n",
    "    solver.Add(solver.Sum([index_value_matrix[brick][sr] * x[brick,sr] for brick in range(num_bricks)]) >= min_workload)\n",
    "    solver.Add(solver.Sum([index_value_matrix[brick][sr] * x[brick,sr] for sr in range(num_sr)]) <= max_workload)"
   ]
  },
  {
   "cell_type": "code",
   "execution_count": 250,
   "metadata": {},
   "outputs": [],
   "source": [
    "# Minimizing the distance\n",
    "objective_terms = []\n",
    "for brick in range(num_bricks):\n",
    "    for sr in range(num_sr):\n",
    "        objective_terms.append(distances_matrix[brick][sr] * x[brick, sr])\n",
    "solver.Minimize(solver.Sum(objective_terms))"
   ]
  },
  {
   "cell_type": "code",
   "execution_count": 251,
   "metadata": {},
   "outputs": [
    {
     "name": "stdout",
     "output_type": "stream",
     "text": [
      "Solving with SCIP 9.0.0 [LP solver: Glop 9.11]\n",
      "0\n"
     ]
    }
   ],
   "source": [
    "print(f\"Solving with {solver.SolverVersion()}\")\n",
    "status = solver.Solve()\n",
    "print(status)"
   ]
  },
  {
   "cell_type": "code",
   "execution_count": 252,
   "metadata": {},
   "outputs": [
    {
     "name": "stdout",
     "output_type": "stream",
     "text": [
      "Total cost = 154.08\n",
      "\n",
      "Brick 0 assigned to SR 3. Cost: 21.12\n",
      "Brick 1 assigned to SR 3. Cost: 17.33\n",
      "Brick 2 assigned to SR 3. Cost: 12.25\n",
      "Brick 3 assigned to SR 0. Cost: 0.0\n",
      "Brick 4 assigned to SR 0. Cost: 3.07\n",
      "Brick 5 assigned to SR 0. Cost: 1.22\n",
      "Brick 6 assigned to SR 0. Cost: 2.8\n",
      "Brick 7 assigned to SR 0. Cost: 2.87\n",
      "Brick 8 assigned to SR 0. Cost: 3.8\n",
      "Brick 9 assigned to SR 2. Cost: 4.37\n",
      "Brick 10 assigned to SR 2. Cost: 2.97\n",
      "Brick 11 assigned to SR 0. Cost: 21.99\n",
      "Brick 12 assigned to SR 1. Cost: 3.28\n",
      "Brick 13 assigned to SR 1. Cost: 0.0\n",
      "Brick 14 assigned to SR 2. Cost: 1.11\n",
      "Brick 15 assigned to SR 2. Cost: 0.0\n",
      "Brick 16 assigned to SR 2. Cost: 1.08\n",
      "Brick 17 assigned to SR 1. Cost: 0.77\n",
      "Brick 18 assigned to SR 0. Cost: 11.13\n",
      "Brick 19 assigned to SR 0. Cost: 17.49\n",
      "Brick 20 assigned to SR 3. Cost: 25.43\n",
      "Brick 21 assigned to SR 3. Cost: 0.0\n"
     ]
    }
   ],
   "source": [
    "if status == pywraplp.Solver.OPTIMAL or status == pywraplp.Solver.FEASIBLE:\n",
    "    print(f\"Total cost = {solver.Objective().Value()}\\n\")\n",
    "    for brick in range(num_bricks):\n",
    "        for sr in range(num_sr):\n",
    "            if x[brick, sr].solution_value() > 0.5:\n",
    "                print(\n",
    "                    f\"Brick {brick} assigned to SR {sr}.\"\n",
    "                    + f\" Cost: {distances_matrix[brick][sr]}\"\n",
    "                )\n",
    "else:\n",
    "    print(\"No solution found.\")\n"
   ]
  },
  {
   "cell_type": "code",
   "execution_count": null,
   "metadata": {},
   "outputs": [],
   "source": []
  }
 ],
 "metadata": {
  "kernelspec": {
   "display_name": "Python 3 (ipykernel)",
   "language": "python",
   "name": "python3"
  },
  "language_info": {
   "codemirror_mode": {
    "name": "ipython",
    "version": 3
   },
   "file_extension": ".py",
   "mimetype": "text/x-python",
   "name": "python",
   "nbconvert_exporter": "python",
   "pygments_lexer": "ipython3",
   "version": "3.12.6"
  }
 },
 "nbformat": 4,
 "nbformat_minor": 4
}
