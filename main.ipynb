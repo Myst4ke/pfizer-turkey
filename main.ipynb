{
 "cells": [
  {
   "cell_type": "markdown",
   "metadata": {},
   "source": [
    "# Assigning Regions to Sale Representatives at Pfizer Turkey \n"
   ]
  },
  {
   "cell_type": "code",
   "execution_count": 17,
   "metadata": {},
   "outputs": [],
   "source": [
    "import pandas as pd\n",
    "import numpy as np\n",
    "\n",
    "assignment = pd.read_csv(\"assignment.csv\")\n",
    "distances = pd.read_csv(\"brick_rp_distances.csv\")\n",
    "workload = pd.read_csv(\"bricks_index_values.csv\")"
   ]
  },
  {
   "cell_type": "code",
   "execution_count": 15,
   "metadata": {},
   "outputs": [
    {
     "name": "stdout",
     "output_type": "stream",
     "text": [
      "Index(['SR#', 'Center_Brick#', 'Bricks_Assigned'], dtype='object')\n"
     ]
    },
    {
     "data": {
      "text/plain": [
       "0           [4,5,6,7,15]\n",
       "1       [10,11,12,13,14]\n",
       "2           [9,16,17,18]\n",
       "3    [1,2,3,19,20,21,22]\n",
       "Name: Bricks_Assigned, dtype: object"
      ]
     },
     "execution_count": 15,
     "metadata": {},
     "output_type": "execute_result"
    }
   ],
   "source": [
    "print(assignment.columns)\n",
    "workload[\"index_value\"].sum()\n",
    "bricks = assignment[\"Bricks_Assigned\"]\n",
    "bricks"
   ]
  }
 ],
 "metadata": {
  "kernelspec": {
   "display_name": "env",
   "language": "python",
   "name": "python3"
  },
  "language_info": {
   "codemirror_mode": {
    "name": "ipython",
    "version": 3
   },
   "file_extension": ".py",
   "mimetype": "text/x-python",
   "name": "python",
   "nbconvert_exporter": "python",
   "pygments_lexer": "ipython3",
   "version": "3.10.12"
  }
 },
 "nbformat": 4,
 "nbformat_minor": 2
}
