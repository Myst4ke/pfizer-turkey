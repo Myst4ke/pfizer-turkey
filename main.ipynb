{
 "cells": [
  {
   "cell_type": "markdown",
   "metadata": {},
   "source": [
    "# Assigning Regions to Sale Representatives at Pfizer Turkey \n"
   ]
  },
  {
   "cell_type": "code",
   "execution_count": 1,
   "metadata": {},
   "outputs": [],
   "source": [
    "import pandas as pd\n",
    "import numpy as np\n",
    "from ortools.linear_solver import pywraplp\n",
    "from ortools.sat.python import cp_model\n",
    "import json\n",
    "import collections\n",
    "import copy\n",
    "\n",
    "assignment = pd.read_csv(\"assignment.csv\")\n",
    "distances = pd.read_csv(\"brick_rp_distances.csv\")\n",
    "workload = pd.read_csv(\"bricks_index_values.csv\")"
   ]
  },
  {
   "cell_type": "code",
   "execution_count": 2,
   "metadata": {},
   "outputs": [],
   "source": [
    "def str_to_list(to_cast):\n",
    "    return json.loads(to_cast)"
   ]
  },
  {
   "cell_type": "code",
   "execution_count": 3,
   "metadata": {},
   "outputs": [],
   "source": [
    "def create_init_assign_matrix(assignments):\n",
    "    assignment_d = {}\n",
    "    for i in range(4):\n",
    "        x = assignment[assignment[\"SR#\"] == (i+1)]\n",
    "        for brick in str_to_list(x[\"Bricks_Assigned\"][i]):\n",
    "            assignment_d[brick] = i + 1\n",
    "    sorted_dict = dict(sorted(assignment_d.items()))\n",
    "    matrix = [[int((i+1) == sorted_dict[k])for i in range(4)] for k in sorted_dict.keys()]\n",
    "    return matrix"
   ]
  },
  {
   "cell_type": "code",
   "execution_count": 4,
   "metadata": {},
   "outputs": [],
   "source": [
    "def create_index_value_matrix(bricks_index_values):\n",
    "    index_dict = bricks_index_values.set_index(\"brick\").T.to_dict('list')\n",
    "    sorted_dict = dict(sorted(index_dict.items()))\n",
    "    return [[float(sorted_dict[index][0]), float(sorted_dict[index][0]), float(sorted_dict[index][0]), float(sorted_dict[index][0])] for index in sorted_dict.keys()]"
   ]
  },
  {
   "cell_type": "code",
   "execution_count": 5,
   "metadata": {},
   "outputs": [],
   "source": [
    "def create_distances_matrix(distances):\n",
    "    distances_dict = distances.set_index(\"brick\").T.to_dict('list')\n",
    "    sorted_dict = dict(sorted(distances_dict.items()))\n",
    "    return [sorted_dict[index] for index in sorted_dict.keys()]"
   ]
  },
  {
   "cell_type": "markdown",
   "metadata": {},
   "source": [
    "## Q1 & Q2"
   ]
  },
  {
   "cell_type": "code",
   "execution_count": 6,
   "metadata": {},
   "outputs": [],
   "source": [
    "model = cp_model.CpModel()"
   ]
  },
  {
   "cell_type": "code",
   "execution_count": 7,
   "metadata": {},
   "outputs": [],
   "source": [
    "# Values for constraints\n",
    "scaling_factor = 10000\n",
    "num_sr = 4\n",
    "min_workload = 0.8\n",
    "max_workload = 1.2\n",
    "init_state_matrix = create_init_assign_matrix(assignment)\n",
    "index_value_matrix = create_index_value_matrix(workload)\n",
    "index_value_matrix_scaled = copy.deepcopy(index_value_matrix)\n",
    "for i in range(len(index_value_matrix)):\n",
    "    for j in range(len(index_value_matrix[0])):\n",
    "        index_value_matrix_scaled[i][j] = int(index_value_matrix[i][j] * scaling_factor)\n",
    "distances_matrix = create_distances_matrix(distances)\n",
    "distances_matrix_scaled = copy.deepcopy(distances_matrix)\n",
    "for i in range(len(distances_matrix)):\n",
    "    for j in range(len(distances_matrix[0])):\n",
    "        distances_matrix_scaled[i][j] = int(distances_matrix[i][j] * scaling_factor)\n",
    "hq_bricks = [[0,3],[1,13],[2,15],[3,21]]\n",
    "num_bricks = len(distances_matrix)\n",
    "\n",
    "# Boolean variables\n",
    "x = {}\n",
    "for brick in range(num_bricks):\n",
    "    for sr in range(num_sr):\n",
    "        x[brick, sr] = model.new_bool_var(f\"x[{brick},{sr}]\")\n",
    "\n",
    "# Add constraints\n",
    "# One brick to one SR and one SR to one brick\n",
    "for brick in range(num_bricks):\n",
    "    model.add_exactly_one(x[brick, sr] for sr in range(num_sr))\n",
    "\n",
    "# The cental brick for an SR cannot change\n",
    "hq_vars = []\n",
    "for hq in hq_bricks:\n",
    "    hq_vars.append(x[hq[1],hq[0]])\n",
    "model.add(sum(hq_vars) == num_sr)\n",
    "\n",
    "# Balance workload (min and max)\n",
    "for sr in range(num_sr):\n",
    "    model.add(sum(index_value_matrix_scaled[brick][sr] * x[brick,sr] for brick in range(num_bricks)) >= int(min_workload * scaling_factor))\n",
    "    model.add(sum(index_value_matrix_scaled[brick][sr] * x[brick,sr] for brick in range(num_bricks)) <= int(max_workload * scaling_factor))"
   ]
  },
  {
   "cell_type": "code",
   "execution_count": 8,
   "metadata": {},
   "outputs": [],
   "source": [
    "objective_terms = []\n",
    "for brick in range(num_bricks):\n",
    "    for sr in range(num_sr):\n",
    "        objective_terms.append(distances_matrix_scaled[brick][sr] * x[brick, sr])\n",
    "model.minimize(sum(objective_terms))"
   ]
  },
  {
   "cell_type": "code",
   "execution_count": 9,
   "metadata": {},
   "outputs": [
    {
     "name": "stdout",
     "output_type": "stream",
     "text": [
      "4\n"
     ]
    }
   ],
   "source": [
    "solver = cp_model.CpSolver()\n",
    "status = solver.solve(model)\n",
    "print(status)"
   ]
  },
  {
   "cell_type": "code",
   "execution_count": 10,
   "metadata": {},
   "outputs": [
    {
     "name": "stdout",
     "output_type": "stream",
     "text": [
      "Total cost = 154.6197\n",
      "\n",
      "Brick 1 assigned to SR 4. Cost = 21.12\n",
      "Brick 2 assigned to SR 4. Cost = 17.33\n",
      "Brick 3 assigned to SR 4. Cost = 12.25\n",
      "Brick 4 assigned to SR 1. Cost = 0.0\n",
      "Brick 5 assigned to SR 1. Cost = 3.07\n",
      "Brick 6 assigned to SR 1. Cost = 1.22\n",
      "Brick 7 assigned to SR 1. Cost = 2.8\n",
      "Brick 8 assigned to SR 1. Cost = 2.87\n",
      "Brick 9 assigned to SR 1. Cost = 3.8\n",
      "Brick 10 assigned to SR 3. Cost = 4.37\n",
      "Brick 11 assigned to SR 2. Cost = 3.51\n",
      "Brick 12 assigned to SR 1. Cost = 21.99\n",
      "Brick 13 assigned to SR 2. Cost = 3.28\n",
      "Brick 14 assigned to SR 2. Cost = 0.0\n",
      "Brick 15 assigned to SR 3. Cost = 1.11\n",
      "Brick 16 assigned to SR 3. Cost = 0.0\n",
      "Brick 17 assigned to SR 3. Cost = 1.08\n",
      "Brick 18 assigned to SR 2. Cost = 0.77\n",
      "Brick 19 assigned to SR 1. Cost = 11.13\n",
      "Brick 20 assigned to SR 1. Cost = 17.49\n",
      "Brick 21 assigned to SR 4. Cost = 25.43\n",
      "Brick 22 assigned to SR 4. Cost = 0.0\n"
     ]
    }
   ],
   "source": [
    "# Number of reassignments (upper bound for 2nd opti)\n",
    "new_objective = 0\n",
    "\n",
    "if status == cp_model.OPTIMAL or status == cp_model.FEASIBLE:\n",
    "    print(f\"Total cost = {solver.objective_value/scaling_factor}\\n\")\n",
    "    for brick in range(num_bricks):\n",
    "        for sr in range(num_sr):\n",
    "            if solver.boolean_value(x[brick, sr]):\n",
    "                new_objective += (1 - init_state_matrix[brick][sr])\n",
    "                print(\n",
    "                    f\"Brick {brick + 1} assigned to SR {sr + 1}.\"\n",
    "                    + f\" Cost = {distances_matrix[brick][sr]}\"\n",
    "                )\n",
    "else:\n",
    "    print(\"No solution found.\")"
   ]
  },
  {
   "cell_type": "code",
   "execution_count": 11,
   "metadata": {},
   "outputs": [],
   "source": [
    "# Adding hints as constraints\n",
    "for brick in range(num_bricks):\n",
    "    for sr in range(num_sr):\n",
    "        model.add_hint(x[brick, sr], solver.Value(x[brick, sr]))"
   ]
  },
  {
   "cell_type": "code",
   "execution_count": 12,
   "metadata": {},
   "outputs": [],
   "source": [
    "# Num of reassignments should be at least lower than the upper bound\n",
    "for brick in range(num_bricks):\n",
    "    model.add(sum(x[brick, sr] - 2*x[brick, sr]*init_state_matrix[brick][sr] + init_state_matrix[brick][sr] for sr in range(num_sr)) <= round(new_objective))"
   ]
  },
  {
   "cell_type": "code",
   "execution_count": 13,
   "metadata": {},
   "outputs": [],
   "source": [
    "# Minimizing reassignments\n",
    "objective_terms_2 = []\n",
    "for brick in range(num_bricks):\n",
    "    for sr in range(num_sr):\n",
    "        objective_terms_2.append(x[brick, sr] - 2*x[brick, sr]*init_state_matrix[brick][sr] + init_state_matrix[brick][sr])\n",
    "model.minimize(sum(objective_terms_2))"
   ]
  },
  {
   "cell_type": "code",
   "execution_count": 14,
   "metadata": {},
   "outputs": [
    {
     "name": "stdout",
     "output_type": "stream",
     "text": [
      "4\n"
     ]
    }
   ],
   "source": [
    "solver = cp_model.CpSolver()\n",
    "status = solver.solve(model)\n",
    "print(status)"
   ]
  },
  {
   "cell_type": "code",
   "execution_count": 15,
   "metadata": {},
   "outputs": [
    {
     "name": "stdout",
     "output_type": "stream",
     "text": [
      "Total cost = 1.0\n",
      "\n",
      "Brick 1 assigned to SR 4. Cost = 0\n",
      "Brick 2 assigned to SR 4. Cost = 0\n",
      "Brick 3 assigned to SR 4. Cost = 0\n",
      "Brick 4 assigned to SR 1. Cost = 0\n",
      "Brick 5 assigned to SR 1. Cost = 0\n",
      "Brick 6 assigned to SR 1. Cost = 0\n",
      "Brick 7 assigned to SR 1. Cost = 0\n",
      "Brick 8 assigned to SR 1. Cost = 0\n",
      "Brick 9 assigned to SR 3. Cost = 0\n",
      "Brick 10 assigned to SR 3. Cost = 1\n",
      "Brick 11 assigned to SR 2. Cost = 0\n",
      "Brick 12 assigned to SR 2. Cost = 0\n",
      "Brick 13 assigned to SR 2. Cost = 0\n",
      "Brick 14 assigned to SR 2. Cost = 0\n",
      "Brick 15 assigned to SR 1. Cost = 0\n",
      "Brick 16 assigned to SR 3. Cost = 0\n",
      "Brick 17 assigned to SR 3. Cost = 0\n",
      "Brick 18 assigned to SR 3. Cost = 0\n",
      "Brick 19 assigned to SR 4. Cost = 0\n",
      "Brick 20 assigned to SR 4. Cost = 0\n",
      "Brick 21 assigned to SR 4. Cost = 0\n",
      "Brick 22 assigned to SR 4. Cost = 0\n"
     ]
    }
   ],
   "source": [
    "if status == cp_model.OPTIMAL or status == cp_model.FEASIBLE:\n",
    "    print(f\"Total cost = {solver.objective_value/2}\\n\")\n",
    "    for brick in range(num_bricks):\n",
    "        for sr in range(num_sr):\n",
    "            if solver.boolean_value(x[brick, sr]):\n",
    "                print(\n",
    "                    f\"Brick {brick + 1} assigned to SR {sr + 1}.\"\n",
    "                    + f\" Cost = {(1 - 2*init_state_matrix[brick][sr] + init_state_matrix[brick][sr])}\"\n",
    "                )\n",
    "else:\n",
    "    print(\"No solution found.\")"
   ]
  },
  {
   "cell_type": "code",
   "execution_count": 16,
   "metadata": {},
   "outputs": [
    {
     "name": "stdout",
     "output_type": "stream",
     "text": [
      "Distance for SR 1 : 19.3\n",
      "Workload for SR 1 : 0.9507\n",
      "Distance for SR 2 : 33.31\n",
      "Workload for SR 2 : 1.3377\n",
      "Distance for SR 3 : 9.99\n",
      "Workload for SR 3 : 0.7048\n",
      "Distance for SR 4 : 124.74\n",
      "Workload for SR 4 : 1.0068\n"
     ]
    }
   ],
   "source": [
    "# Current solution\n",
    "for sr in range(num_sr):\n",
    "    d = sum([init_state_matrix[brick][sr] * distances_matrix[brick][sr] for brick in range(num_bricks)])\n",
    "    w = sum([init_state_matrix[brick][sr] * index_value_matrix[brick][sr] for brick in range(num_bricks)])\n",
    "    print(f\"Distance for SR {sr + 1} : {d}\")\n",
    "    print(f\"Workload for SR {sr + 1} : {w}\") "
   ]
  },
  {
   "cell_type": "markdown",
   "metadata": {},
   "source": [
    "The current solution has several issues :\n",
    "- The workload is not balanced between the SR (from 0.70 to 1.33)\n",
    "- The total distance is not optimized (see results below)\n",
    "- Also the distance that SR4 is traveling is the greatest by far (100km diff with the 2nd greatest distance), is this an issue ?"
   ]
  },
  {
   "cell_type": "code",
   "execution_count": 17,
   "metadata": {},
   "outputs": [],
   "source": [
    "solution = [[0 for x in range(num_sr)] for y in range(num_bricks)]\n",
    "for brick in range(num_bricks):\n",
    "    for sr in range(num_sr):\n",
    "        if solver.boolean_value(x[brick, sr]):\n",
    "            solution[brick][sr] = 1"
   ]
  },
  {
   "cell_type": "code",
   "execution_count": 18,
   "metadata": {},
   "outputs": [
    {
     "name": "stdout",
     "output_type": "stream",
     "text": [
      "Distance for SR 1 : 19.3\n",
      "Workload for SR 1 : 0.9507\n",
      "Distance for SR 2 : 28.8\n",
      "Workload for SR 2 : 1.0848\n",
      "Distance for SR 3 : 14.36\n",
      "Workload for SR 3 : 0.9577\n",
      "Distance for SR 4 : 124.74\n",
      "Workload for SR 4 : 1.0068\n"
     ]
    }
   ],
   "source": [
    "# Solution found by the solver\n",
    "for sr in range(num_sr):\n",
    "    d = sum([solution[brick][sr] * distances_matrix[brick][sr] for brick in range(num_bricks)])\n",
    "    w = sum([solution[brick][sr] * index_value_matrix[brick][sr] for brick in range(num_bricks)])\n",
    "    print(f\"Distance for SR {sr + 1} : {d}\")\n",
    "    print(f\"Workload for SR {sr + 1} : {w}\") "
   ]
  },
  {
   "cell_type": "markdown",
   "metadata": {},
   "source": [
    "This solution balances the workload by giving the 10th brick from SR2 to SR3.\n",
    "The workload is now between 0.9507 and 1.0848.\n",
    "It is also a minimal reassignation (one).\n",
    "Still SR4 has 124km to travel."
   ]
  },
  {
   "cell_type": "markdown",
   "metadata": {},
   "source": [
    "## Q3 Workload between 0.96 and 1.1"
   ]
  },
  {
   "cell_type": "code",
   "execution_count": 33,
   "metadata": {},
   "outputs": [],
   "source": [
    "model = cp_model.CpModel()"
   ]
  },
  {
   "cell_type": "code",
   "execution_count": 34,
   "metadata": {},
   "outputs": [],
   "source": [
    "# Values for constraints\n",
    "scaling_factor = 10000\n",
    "num_sr = 4\n",
    "min_workload = 0.96\n",
    "max_workload = 1.1\n",
    "init_state_matrix = create_init_assign_matrix(assignment)\n",
    "index_value_matrix = create_index_value_matrix(workload)\n",
    "index_value_matrix_scaled = copy.deepcopy(index_value_matrix)\n",
    "for i in range(len(index_value_matrix)):\n",
    "    for j in range(len(index_value_matrix[0])):\n",
    "        index_value_matrix_scaled[i][j] = int(index_value_matrix[i][j] * scaling_factor)\n",
    "distances_matrix = create_distances_matrix(distances)\n",
    "distances_matrix_scaled = copy.deepcopy(distances_matrix)\n",
    "for i in range(len(distances_matrix)):\n",
    "    for j in range(len(distances_matrix[0])):\n",
    "        distances_matrix_scaled[i][j] = int(distances_matrix[i][j] * scaling_factor)\n",
    "hq_bricks = [[0,3],[1,13],[2,15],[3,21]]\n",
    "num_bricks = len(distances_matrix)\n",
    "\n",
    "# Boolean variables\n",
    "x = {}\n",
    "for brick in range(num_bricks):\n",
    "    for sr in range(num_sr):\n",
    "        x[brick, sr] = model.new_bool_var(f\"x[{brick},{sr}]\")\n",
    "\n",
    "# Add constraints\n",
    "# One brick to one SR and one SR to one brick\n",
    "for brick in range(num_bricks):\n",
    "    model.add_exactly_one(x[brick, sr] for sr in range(num_sr))\n",
    "\n",
    "# The cental brick for an SR cannot change\n",
    "hq_vars = []\n",
    "for hq in hq_bricks:\n",
    "    hq_vars.append(x[hq[1],hq[0]])\n",
    "model.add(sum(hq_vars) == num_sr)\n",
    "\n",
    "# Balance workload (min and max)\n",
    "for sr in range(num_sr):\n",
    "    model.add(sum(index_value_matrix_scaled[brick][sr] * x[brick,sr] for brick in range(num_bricks)) >= int(min_workload * scaling_factor))\n",
    "    model.add(sum(index_value_matrix_scaled[brick][sr] * x[brick,sr] for brick in range(num_bricks)) <= int(max_workload * scaling_factor))"
   ]
  },
  {
   "cell_type": "code",
   "execution_count": 35,
   "metadata": {},
   "outputs": [],
   "source": [
    "objective_terms = []\n",
    "for brick in range(num_bricks):\n",
    "    for sr in range(num_sr):\n",
    "        objective_terms.append(distances_matrix_scaled[brick][sr] * x[brick, sr])\n",
    "model.minimize(sum(objective_terms))"
   ]
  },
  {
   "cell_type": "code",
   "execution_count": 36,
   "metadata": {},
   "outputs": [
    {
     "name": "stdout",
     "output_type": "stream",
     "text": [
      "4\n"
     ]
    }
   ],
   "source": [
    "solver = cp_model.CpSolver()\n",
    "status = solver.solve(model)\n",
    "print(status)"
   ]
  },
  {
   "cell_type": "code",
   "execution_count": 37,
   "metadata": {},
   "outputs": [
    {
     "name": "stdout",
     "output_type": "stream",
     "text": [
      "Total cost = 182.8399\n",
      "\n",
      "Brick 1 assigned to SR 4. Cost = 21.12\n",
      "Brick 2 assigned to SR 4. Cost = 17.33\n",
      "Brick 3 assigned to SR 4. Cost = 12.25\n",
      "Brick 4 assigned to SR 1. Cost = 0.0\n",
      "Brick 5 assigned to SR 1. Cost = 3.07\n",
      "Brick 6 assigned to SR 1. Cost = 1.22\n",
      "Brick 7 assigned to SR 1. Cost = 2.8\n",
      "Brick 8 assigned to SR 1. Cost = 2.87\n",
      "Brick 9 assigned to SR 1. Cost = 3.8\n",
      "Brick 10 assigned to SR 1. Cost = 12.35\n",
      "Brick 11 assigned to SR 3. Cost = 2.97\n",
      "Brick 12 assigned to SR 2. Cost = 22.01\n",
      "Brick 13 assigned to SR 2. Cost = 3.28\n",
      "Brick 14 assigned to SR 2. Cost = 0.0\n",
      "Brick 15 assigned to SR 3. Cost = 1.11\n",
      "Brick 16 assigned to SR 3. Cost = 0.0\n",
      "Brick 17 assigned to SR 3. Cost = 1.08\n",
      "Brick 18 assigned to SR 3. Cost = 1.54\n",
      "Brick 19 assigned to SR 4. Cost = 25.4\n",
      "Brick 20 assigned to SR 4. Cost = 23.21\n",
      "Brick 21 assigned to SR 4. Cost = 25.43\n",
      "Brick 22 assigned to SR 4. Cost = 0.0\n"
     ]
    }
   ],
   "source": [
    "# Number of reassignments (upper bound for 2nd opti)\n",
    "new_objective = 0\n",
    "\n",
    "if status == cp_model.OPTIMAL or status == cp_model.FEASIBLE:\n",
    "    print(f\"Total cost = {solver.objective_value/scaling_factor}\\n\")\n",
    "    for brick in range(num_bricks):\n",
    "        for sr in range(num_sr):\n",
    "            if solver.boolean_value(x[brick, sr]):\n",
    "                new_objective += (1 - init_state_matrix[brick][sr])\n",
    "                print(\n",
    "                    f\"Brick {brick + 1} assigned to SR {sr + 1}.\"\n",
    "                    + f\" Cost = {distances_matrix[brick][sr]}\"\n",
    "                )\n",
    "else:\n",
    "    print(\"No solution found.\")"
   ]
  },
  {
   "cell_type": "code",
   "execution_count": 38,
   "metadata": {},
   "outputs": [],
   "source": [
    "# Adding hints as constraints\n",
    "for brick in range(num_bricks):\n",
    "    for sr in range(num_sr):\n",
    "        model.add_hint(x[brick, sr], solver.Value(x[brick, sr]))"
   ]
  },
  {
   "cell_type": "code",
   "execution_count": 39,
   "metadata": {},
   "outputs": [],
   "source": [
    "# Num of reassignments should be at least lower than the upper bound\n",
    "for brick in range(num_bricks):\n",
    "    model.add(sum(x[brick, sr] - 2*x[brick, sr]*init_state_matrix[brick][sr] + init_state_matrix[brick][sr] for sr in range(num_sr)) <= round(new_objective))"
   ]
  },
  {
   "cell_type": "code",
   "execution_count": 40,
   "metadata": {},
   "outputs": [],
   "source": [
    "# Minimizing reassignments\n",
    "objective_terms_2 = []\n",
    "for brick in range(num_bricks):\n",
    "    for sr in range(num_sr):\n",
    "        objective_terms_2.append(x[brick, sr] - 2*x[brick, sr]*init_state_matrix[brick][sr] + init_state_matrix[brick][sr])\n",
    "model.minimize(sum(objective_terms_2))"
   ]
  },
  {
   "cell_type": "code",
   "execution_count": 41,
   "metadata": {},
   "outputs": [
    {
     "name": "stdout",
     "output_type": "stream",
     "text": [
      "4\n"
     ]
    }
   ],
   "source": [
    "solver = cp_model.CpSolver()\n",
    "status = solver.solve(model)\n",
    "print(status)"
   ]
  },
  {
   "cell_type": "code",
   "execution_count": 42,
   "metadata": {},
   "outputs": [
    {
     "name": "stdout",
     "output_type": "stream",
     "text": [
      "Total cost = 3.0\n",
      "\n",
      "Brick 1 assigned to SR 4. Cost = 0\n",
      "Brick 2 assigned to SR 4. Cost = 0\n",
      "Brick 3 assigned to SR 4. Cost = 0\n",
      "Brick 4 assigned to SR 1. Cost = 0\n",
      "Brick 5 assigned to SR 1. Cost = 0\n",
      "Brick 6 assigned to SR 1. Cost = 0\n",
      "Brick 7 assigned to SR 1. Cost = 0\n",
      "Brick 8 assigned to SR 1. Cost = 0\n",
      "Brick 9 assigned to SR 3. Cost = 0\n",
      "Brick 10 assigned to SR 3. Cost = 1\n",
      "Brick 11 assigned to SR 2. Cost = 0\n",
      "Brick 12 assigned to SR 3. Cost = 1\n",
      "Brick 13 assigned to SR 2. Cost = 0\n",
      "Brick 14 assigned to SR 2. Cost = 0\n",
      "Brick 15 assigned to SR 1. Cost = 0\n",
      "Brick 16 assigned to SR 3. Cost = 0\n",
      "Brick 17 assigned to SR 3. Cost = 0\n",
      "Brick 18 assigned to SR 1. Cost = 1\n",
      "Brick 19 assigned to SR 4. Cost = 0\n",
      "Brick 20 assigned to SR 4. Cost = 0\n",
      "Brick 21 assigned to SR 4. Cost = 0\n",
      "Brick 22 assigned to SR 4. Cost = 0\n"
     ]
    }
   ],
   "source": [
    "if status == cp_model.OPTIMAL or status == cp_model.FEASIBLE:\n",
    "    print(f\"Total cost = {solver.objective_value/2}\\n\")\n",
    "    for brick in range(num_bricks):\n",
    "        for sr in range(num_sr):\n",
    "            if solver.boolean_value(x[brick, sr]):\n",
    "                print(\n",
    "                    f\"Brick {brick + 1} assigned to SR {sr + 1}.\"\n",
    "                    + f\" Cost = {(1 - 2*init_state_matrix[brick][sr] + init_state_matrix[brick][sr])}\"\n",
    "                )\n",
    "else:\n",
    "    print(\"No solution found.\")"
   ]
  },
  {
   "cell_type": "code",
   "execution_count": 43,
   "metadata": {},
   "outputs": [],
   "source": [
    "solution = [[0 for x in range(num_sr)] for y in range(num_bricks)]\n",
    "for brick in range(num_bricks):\n",
    "    for sr in range(num_sr):\n",
    "        if solver.boolean_value(x[brick, sr]):\n",
    "            solution[brick][sr] = 1"
   ]
  },
  {
   "cell_type": "code",
   "execution_count": 45,
   "metadata": {},
   "outputs": [
    {
     "name": "stdout",
     "output_type": "stream",
     "text": [
      "Distance for SR 1 : 26.849999999999998\n",
      "Workload for SR 1 : 0.9934\n",
      "Distance for SR 2 : 6.789999999999999\n",
      "Workload for SR 2 : 1.002\n",
      "Distance for SR 3 : 36.92\n",
      "Workload for SR 3 : 0.9978\n",
      "Distance for SR 4 : 124.74\n",
      "Workload for SR 4 : 1.0068\n"
     ]
    }
   ],
   "source": [
    "# Solution found by the solver\n",
    "for sr in range(num_sr):\n",
    "    d = sum([solution[brick][sr] * distances_matrix[brick][sr] for brick in range(num_bricks)])\n",
    "    w = sum([solution[brick][sr] * index_value_matrix[brick][sr] for brick in range(num_bricks)])\n",
    "    print(f\"Distance for SR {sr + 1} : {d}\")\n",
    "    print(f\"Workload for SR {sr + 1} : {w}\") "
   ]
  },
  {
   "cell_type": "markdown",
   "metadata": {},
   "source": [
    "This time there are several reassignments:\n",
    "- Brick 10 from SR2 to SR3\n",
    "- Brick 12 from SR2 to SR1\n",
    "- Brick 18 from SR3 to SR1\n",
    "Once again the solution is balancing the workload of SR2 with the others."
   ]
  },
  {
   "cell_type": "markdown",
   "metadata": {},
   "source": [
    "## Q4 from bools to ints"
   ]
  },
  {
   "cell_type": "markdown",
   "metadata": {},
   "source": [
    "This time the solution is a matrix of integers getting values from [0, coef] where coef is an integer > 0.\n",
    "\n",
    "The goal is to represent the partial assignment of a brick.\n",
    "\n",
    "Let's say that we are using integers in the range [0, 100]. One possible assignment for brick 1 is :\n",
    "- SR1 -> 10\n",
    "- SR2 -> 30\n",
    "- SR3 -> 5\n",
    "- SR4 -> 55\n",
    "\n",
    "The sum of the assignment values should be equal to the coef (here 100). In this example, SR4 will do 55% of the work."
   ]
  },
  {
   "cell_type": "code",
   "execution_count": 65,
   "metadata": {},
   "outputs": [],
   "source": [
    "model = cp_model.CpModel()"
   ]
  },
  {
   "cell_type": "code",
   "execution_count": 66,
   "metadata": {},
   "outputs": [],
   "source": [
    "# Values for constraints\n",
    "scaling_factor = 10000\n",
    "num_sr = 4\n",
    "min_workload = 0.8\n",
    "max_workload = 1.2\n",
    "init_state_matrix = create_init_assign_matrix(assignment)\n",
    "init_state_matrix_scaled = copy.deepcopy(init_state_matrix)\n",
    "for i in range(len(init_state_matrix)):\n",
    "    for j in range(len(init_state_matrix[0])):\n",
    "        init_state_matrix_scaled[i][j] = int(init_state_matrix[i][j] * scaling_factor)\n",
    "index_value_matrix = create_index_value_matrix(workload)\n",
    "index_value_matrix_scaled = copy.deepcopy(index_value_matrix)\n",
    "for i in range(len(index_value_matrix)):\n",
    "    for j in range(len(index_value_matrix[0])):\n",
    "        index_value_matrix_scaled[i][j] = int(index_value_matrix[i][j] * scaling_factor)\n",
    "distances_matrix = create_distances_matrix(distances)\n",
    "distances_matrix_scaled = copy.deepcopy(distances_matrix)\n",
    "for i in range(len(distances_matrix)):\n",
    "    for j in range(len(distances_matrix[0])):\n",
    "        distances_matrix_scaled[i][j] = int(distances_matrix[i][j] * scaling_factor)\n",
    "hq_bricks = [[0,3],[1,13],[2,15],[3,21]]\n",
    "num_bricks = len(distances_matrix)\n",
    "\n",
    "# Integer variables\n",
    "x = {}\n",
    "for brick in range(num_bricks):\n",
    "    for sr in range(num_sr):\n",
    "        x[brick, sr] = model.new_int_var(0, scaling_factor, f\"x[{brick},{sr}]\")\n",
    "\n",
    "assigned = {}\n",
    "for brick in range(num_bricks):\n",
    "    for sr in range(num_sr):\n",
    "        assigned[brick, sr] = model.new_bool_var(f\"assigned[{brick},{sr}]\")\n",
    "\n",
    "# Add constraints\n",
    "# The total assignment for a brick should be equal to the scaling factor\n",
    "for brick in range(num_bricks):\n",
    "    model.add(sum(x[brick, sr] for sr in range(num_sr)) == scaling_factor)\n",
    "\n",
    "# The cental brick for an SR is only managed by the SR\n",
    "hq_vars = []\n",
    "for hq in hq_bricks:\n",
    "    hq_vars.append(x[hq[1],hq[0]])\n",
    "model.add(sum(hq_vars) == num_sr * scaling_factor)\n",
    "\n",
    "# Balance workload (min and max), the scaling factor is squared because the x_ij are also scaled\n",
    "for sr in range(num_sr):\n",
    "    model.add(sum(index_value_matrix_scaled[brick][sr] * x[brick,sr] for brick in range(num_bricks)) >= int(min_workload * scaling_factor * scaling_factor))\n",
    "    model.add(sum(index_value_matrix_scaled[brick][sr] * x[brick,sr] for brick in range(num_bricks)) <= int(max_workload * scaling_factor * scaling_factor))\n",
    "\n",
    "for brick in range(num_bricks):\n",
    "    for sr in range(num_sr):\n",
    "        model.add(x[brick,sr] == 0).only_enforce_if(~assigned[brick,sr])\n",
    "        model.add(x[brick,sr] > 0).only_enforce_if(assigned[brick,sr])"
   ]
  },
  {
   "cell_type": "code",
   "execution_count": 67,
   "metadata": {},
   "outputs": [],
   "source": [
    "objective_terms = []\n",
    "for brick in range(num_bricks):\n",
    "    for sr in range(num_sr):\n",
    "        objective_terms.append(distances_matrix_scaled[brick][sr] * assigned[brick,sr])\n",
    "model.minimize(sum(objective_terms))"
   ]
  },
  {
   "cell_type": "code",
   "execution_count": 63,
   "metadata": {},
   "outputs": [
    {
     "name": "stdout",
     "output_type": "stream",
     "text": [
      "4\n"
     ]
    }
   ],
   "source": [
    "solver = cp_model.CpSolver()\n",
    "status = solver.solve(model)\n",
    "print(status)"
   ]
  },
  {
   "cell_type": "code",
   "execution_count": 70,
   "metadata": {},
   "outputs": [
    {
     "name": "stdout",
     "output_type": "stream",
     "text": [
      "Total cost = 0.0\n",
      "\n",
      "Brick 1 assigned to SR 1. Cost = 0.0\n",
      "Brick 1 assigned to SR 2. Cost = 0.0\n",
      "Brick 1 assigned to SR 3. Cost = 0.0\n",
      "Brick 1 assigned to SR 4. Cost = 0.0\n",
      "Brick 2 assigned to SR 1. Cost = 0.0\n",
      "Brick 2 assigned to SR 2. Cost = 0.0\n",
      "Brick 2 assigned to SR 3. Cost = 0.0\n",
      "Brick 2 assigned to SR 4. Cost = 0.0\n",
      "Brick 3 assigned to SR 1. Cost = 0.0\n",
      "Brick 3 assigned to SR 2. Cost = 0.0\n",
      "Brick 3 assigned to SR 3. Cost = 0.0\n",
      "Brick 3 assigned to SR 4. Cost = 0.0\n",
      "Brick 4 assigned to SR 1. Cost = 0.0\n",
      "Brick 4 assigned to SR 2. Cost = 0.0\n",
      "Brick 4 assigned to SR 3. Cost = 0.0\n",
      "Brick 4 assigned to SR 4. Cost = 0.0\n",
      "Brick 5 assigned to SR 1. Cost = 0.0\n",
      "Brick 5 assigned to SR 2. Cost = 0.0\n",
      "Brick 5 assigned to SR 3. Cost = 0.0\n",
      "Brick 5 assigned to SR 4. Cost = 0.0\n",
      "Brick 6 assigned to SR 1. Cost = 0.0\n",
      "Brick 6 assigned to SR 2. Cost = 0.0\n",
      "Brick 6 assigned to SR 3. Cost = 0.0\n",
      "Brick 6 assigned to SR 4. Cost = 0.0\n",
      "Brick 7 assigned to SR 1. Cost = 0.0\n",
      "Brick 7 assigned to SR 2. Cost = 0.0\n",
      "Brick 7 assigned to SR 3. Cost = 0.0\n",
      "Brick 7 assigned to SR 4. Cost = 0.0\n",
      "Brick 8 assigned to SR 1. Cost = 0.0\n",
      "Brick 8 assigned to SR 2. Cost = 0.0\n",
      "Brick 8 assigned to SR 3. Cost = 0.0\n",
      "Brick 8 assigned to SR 4. Cost = 0.0\n",
      "Brick 9 assigned to SR 1. Cost = 0.0\n",
      "Brick 9 assigned to SR 2. Cost = 0.0\n",
      "Brick 9 assigned to SR 3. Cost = 0.0\n",
      "Brick 9 assigned to SR 4. Cost = 0.0\n",
      "Brick 10 assigned to SR 1. Cost = 0.0\n",
      "Brick 10 assigned to SR 2. Cost = 0.0\n",
      "Brick 10 assigned to SR 3. Cost = 0.0\n",
      "Brick 10 assigned to SR 4. Cost = 0.0\n",
      "Brick 11 assigned to SR 1. Cost = 0.0\n",
      "Brick 11 assigned to SR 2. Cost = 0.0\n",
      "Brick 11 assigned to SR 3. Cost = 0.0\n",
      "Brick 11 assigned to SR 4. Cost = 0.0\n",
      "Brick 12 assigned to SR 1. Cost = 0.0\n",
      "Brick 12 assigned to SR 2. Cost = 0.0\n",
      "Brick 12 assigned to SR 3. Cost = 0.0\n",
      "Brick 12 assigned to SR 4. Cost = 0.0\n",
      "Brick 13 assigned to SR 1. Cost = 0.0\n",
      "Brick 13 assigned to SR 2. Cost = 0.0\n",
      "Brick 13 assigned to SR 3. Cost = 0.0\n",
      "Brick 13 assigned to SR 4. Cost = 0.0\n",
      "Brick 14 assigned to SR 1. Cost = 0.0\n",
      "Brick 14 assigned to SR 2. Cost = 0.0\n",
      "Brick 14 assigned to SR 3. Cost = 0.0\n",
      "Brick 14 assigned to SR 4. Cost = 0.0\n",
      "Brick 15 assigned to SR 1. Cost = 0.0\n",
      "Brick 15 assigned to SR 2. Cost = 0.0\n",
      "Brick 15 assigned to SR 3. Cost = 0.0\n",
      "Brick 15 assigned to SR 4. Cost = 0.0\n",
      "Brick 16 assigned to SR 1. Cost = 0.0\n",
      "Brick 16 assigned to SR 2. Cost = 0.0\n",
      "Brick 16 assigned to SR 3. Cost = 0.0\n",
      "Brick 16 assigned to SR 4. Cost = 0.0\n",
      "Brick 17 assigned to SR 1. Cost = 0.0\n",
      "Brick 17 assigned to SR 2. Cost = 0.0\n",
      "Brick 17 assigned to SR 3. Cost = 0.0\n",
      "Brick 17 assigned to SR 4. Cost = 0.0\n",
      "Brick 18 assigned to SR 1. Cost = 0.0\n",
      "Brick 18 assigned to SR 2. Cost = 0.0\n",
      "Brick 18 assigned to SR 3. Cost = 0.0\n",
      "Brick 18 assigned to SR 4. Cost = 0.0\n",
      "Brick 19 assigned to SR 1. Cost = 0.0\n",
      "Brick 19 assigned to SR 2. Cost = 0.0\n",
      "Brick 19 assigned to SR 3. Cost = 0.0\n",
      "Brick 19 assigned to SR 4. Cost = 0.0\n",
      "Brick 20 assigned to SR 1. Cost = 0.0\n",
      "Brick 20 assigned to SR 2. Cost = 0.0\n",
      "Brick 20 assigned to SR 3. Cost = 0.0\n",
      "Brick 20 assigned to SR 4. Cost = 0.0\n",
      "Brick 21 assigned to SR 1. Cost = 0.0\n",
      "Brick 21 assigned to SR 2. Cost = 0.0\n",
      "Brick 21 assigned to SR 3. Cost = 0.0\n",
      "Brick 21 assigned to SR 4. Cost = 0.0\n",
      "Brick 22 assigned to SR 1. Cost = 0.0\n",
      "Brick 22 assigned to SR 2. Cost = 0.0\n",
      "Brick 22 assigned to SR 3. Cost = 0.0\n",
      "Brick 22 assigned to SR 4. Cost = 0.0\n"
     ]
    }
   ],
   "source": [
    "# Number of reassignments (upper bound for 2nd opti)\n",
    "new_objective = 0\n",
    "\n",
    "if status == cp_model.OPTIMAL or status == cp_model.FEASIBLE:\n",
    "    print(f\"Total cost = {solver.objective_value/scaling_factor}\\n\")\n",
    "    for brick in range(num_bricks):\n",
    "        for sr in range(num_sr):\n",
    "            print(\n",
    "                f\"Brick {brick + 1} assigned to SR {sr + 1}.\"\n",
    "                + f\" Cost = {solver.objective_value}\"\n",
    "            )\n",
    "else:\n",
    "    print(\"No solution found.\")"
   ]
  },
  {
   "cell_type": "code",
   "execution_count": 69,
   "metadata": {},
   "outputs": [],
   "source": [
    "solution = [[0 for x in range(num_sr)] for y in range(num_bricks)]\n",
    "for brick in range(num_bricks):\n",
    "    for sr in range(num_sr):\n",
    "        if solver.objective_value(assigned[brick, sr]):\n",
    "            solution[brick][sr] = 1"
   ]
  },
  {
   "cell_type": "code",
   "execution_count": null,
   "metadata": {},
   "outputs": [],
   "source": []
  }
 ],
 "metadata": {
  "kernelspec": {
   "display_name": "Python 3 (ipykernel)",
   "language": "python",
   "name": "python3"
  },
  "language_info": {
   "codemirror_mode": {
    "name": "ipython",
    "version": 3
   },
   "file_extension": ".py",
   "mimetype": "text/x-python",
   "name": "python",
   "nbconvert_exporter": "python",
   "pygments_lexer": "ipython3",
   "version": "3.12.6"
  }
 },
 "nbformat": 4,
 "nbformat_minor": 4
}
