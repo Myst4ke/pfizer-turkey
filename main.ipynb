{
 "cells": [
  {
   "cell_type": "markdown",
   "metadata": {},
   "source": [
    "# Assigning Regions to Sale Representatives at Pfizer Turkey \n"
   ]
  },
  {
   "cell_type": "code",
   "execution_count": 29,
   "metadata": {},
   "outputs": [],
   "source": [
    "import pandas as pd\n",
    "import numpy as np\n",
    "from ortools.linear_solver import pywraplp\n",
    "from ortools.sat.python import cp_model\n",
    "import json\n",
    "import collections\n",
    "import io\n",
    "\n",
    "assignment = pd.read_csv(\"assignment.csv\")\n",
    "distances = pd.read_csv(\"brick_rp_distances.csv\")\n",
    "workload = pd.read_csv(\"bricks_index_values.csv\")"
   ]
  },
  {
   "cell_type": "code",
   "execution_count": 30,
   "metadata": {},
   "outputs": [],
   "source": [
    "def str_to_list(to_cast):\n",
    "    return json.loads(to_cast)"
   ]
  },
  {
   "cell_type": "code",
   "execution_count": 31,
   "metadata": {},
   "outputs": [],
   "source": [
    "def create_init_assign_matrix(assignments):\n",
    "    assignment_d = {}\n",
    "    for i in range(4):\n",
    "        x = assignment[assignment[\"SR#\"] == (i+1)]\n",
    "        for brick in str_to_list(x[\"Bricks_Assigned\"][i]):\n",
    "            assignment_d[brick] = i + 1\n",
    "    sorted_dict = dict(sorted(assignment_d.items()))\n",
    "    matrix = [[int((i+1) == sorted_dict[k])for i in range(4)] for k in sorted_dict.keys()]\n",
    "    return matrix"
   ]
  },
  {
   "cell_type": "code",
   "execution_count": 32,
   "metadata": {},
   "outputs": [],
   "source": [
    "def create_index_value_matrix(bricks_index_values):\n",
    "    index_dict = bricks_index_values.set_index(\"brick\").T.to_dict('list')\n",
    "    sorted_dict = dict(sorted(index_dict.items()))\n",
    "    return [[float(sorted_dict[index][0]), float(sorted_dict[index][0]), float(sorted_dict[index][0]), float(sorted_dict[index][0])] for index in sorted_dict.keys()]"
   ]
  },
  {
   "cell_type": "code",
   "execution_count": 33,
   "metadata": {},
   "outputs": [],
   "source": [
    "def create_distances_matrix(distances):\n",
    "    distances_dict = distances.set_index(\"brick\").T.to_dict('list')\n",
    "    sorted_dict = dict(sorted(distances_dict.items()))\n",
    "    return [sorted_dict[index] for index in sorted_dict.keys()]"
   ]
  },
  {
   "cell_type": "markdown",
   "metadata": {},
   "source": [
    "## MIP style"
   ]
  },
  {
   "cell_type": "code",
   "execution_count": 34,
   "metadata": {},
   "outputs": [],
   "source": [
    "# Create the mip solver with the CP-SAT backend.\n",
    "solver = pywraplp.Solver.CreateSolver(\"SCIP\")\n",
    "if not solver:\n",
    "    print(\"Problème lors de la création du solveur\")\n",
    "\n",
    "# Values for constraints\n",
    "num_sr = 4\n",
    "min_workload = 0.8\n",
    "max_workload = 1.2\n",
    "init_state_matrix = create_init_assign_matrix(assignment)\n",
    "index_value_matrix = create_index_value_matrix(workload)\n",
    "distances_matrix = create_distances_matrix(distances)\n",
    "hq_bricks = [[0,3],[1,13],[2,15],[3,21]]\n",
    "num_bricks = len(distances_matrix)\n",
    "\n",
    "# Boolean variables\n",
    "x = {}\n",
    "for brick in range(num_bricks):\n",
    "    for sr in range(num_sr):\n",
    "        x[brick, sr] = solver.BoolVar(f\"x[{brick},{sr}]\")\n",
    "\n",
    "# Add constraints\n",
    "# One brick to one SR and one SR to one brick\n",
    "for brick in range(num_bricks):\n",
    "    solver.Add(solver.Sum([x[brick, sr] for sr in range(num_sr)]) == 1)\n",
    "\n",
    "# The cental brick for an SR cannot change\n",
    "solver.Add(solver.Sum([x[hq[1], hq[0]] for hq in hq_bricks]) == 4)\n",
    "\n",
    "# Balance workload (min and max)\n",
    "for sr in range(num_sr):\n",
    "    solver.Add(solver.Sum([index_value_matrix[brick][sr] * x[brick,sr] for brick in range(num_bricks)]) >= min_workload)\n",
    "    solver.Add(solver.Sum([index_value_matrix[brick][sr] * x[brick,sr] for sr in range(num_sr)]) <= max_workload)"
   ]
  },
  {
   "cell_type": "code",
   "execution_count": 35,
   "metadata": {},
   "outputs": [
    {
     "data": {
      "text/plain": [
       "'\\n# Minimizing rassignments\\nobjective_terms_2 = []\\nfor brick in range(num_bricks):\\n    for sr in range(num_sr):\\n        objective_terms_2.append(1/2*(x[brick, sr] - 2*x[brick, sr]*init_state_matrix[brick][sr] + init_state_matrix[brick][sr]))\\nsolver.Minimize(solver.Sum(objective_terms_2))\\n'"
      ]
     },
     "execution_count": 35,
     "metadata": {},
     "output_type": "execute_result"
    }
   ],
   "source": [
    "# Minimizing the distance\n",
    "objective_terms = []\n",
    "for brick in range(num_bricks):\n",
    "    for sr in range(num_sr):\n",
    "        objective_terms.append(distances_matrix[brick][sr] * x[brick, sr])\n",
    "solver.Minimize(solver.Sum(objective_terms))\n",
    "\n",
    "\"\"\"\n",
    "# Minimizing rassignments\n",
    "objective_terms_2 = []\n",
    "for brick in range(num_bricks):\n",
    "    for sr in range(num_sr):\n",
    "        objective_terms_2.append(1/2*(x[brick, sr] - 2*x[brick, sr]*init_state_matrix[brick][sr] + init_state_matrix[brick][sr]))\n",
    "solver.Minimize(solver.Sum(objective_terms_2))\n",
    "\"\"\""
   ]
  },
  {
   "cell_type": "code",
   "execution_count": 36,
   "metadata": {},
   "outputs": [
    {
     "name": "stdout",
     "output_type": "stream",
     "text": [
      "Solving with SCIP 9.0.0 [LP solver: Glop 9.11]\n",
      "0\n"
     ]
    }
   ],
   "source": [
    "print(f\"Solving with {solver.SolverVersion()}\")\n",
    "status = solver.Solve()\n",
    "print(status)"
   ]
  },
  {
   "cell_type": "code",
   "execution_count": 37,
   "metadata": {},
   "outputs": [
    {
     "name": "stdout",
     "output_type": "stream",
     "text": [
      "Total cost = 154.08\n",
      "\n",
      "Brick 1 assigned to SR 4. Cost: 21.12\n",
      "Brick 2 assigned to SR 4. Cost: 17.33\n",
      "Brick 3 assigned to SR 4. Cost: 12.25\n",
      "Brick 4 assigned to SR 1. Cost: 0.0\n",
      "Brick 5 assigned to SR 1. Cost: 3.07\n",
      "Brick 6 assigned to SR 1. Cost: 1.22\n",
      "Brick 7 assigned to SR 1. Cost: 2.8\n",
      "Brick 8 assigned to SR 1. Cost: 2.87\n",
      "Brick 9 assigned to SR 1. Cost: 3.8\n",
      "Brick 10 assigned to SR 3. Cost: 4.37\n",
      "Brick 11 assigned to SR 3. Cost: 2.97\n",
      "Brick 12 assigned to SR 1. Cost: 21.99\n",
      "Brick 13 assigned to SR 2. Cost: 3.28\n",
      "Brick 14 assigned to SR 2. Cost: 0.0\n",
      "Brick 15 assigned to SR 3. Cost: 1.11\n",
      "Brick 16 assigned to SR 3. Cost: 0.0\n",
      "Brick 17 assigned to SR 3. Cost: 1.08\n",
      "Brick 18 assigned to SR 2. Cost: 0.77\n",
      "Brick 19 assigned to SR 1. Cost: 11.13\n",
      "Brick 20 assigned to SR 1. Cost: 17.49\n",
      "Brick 21 assigned to SR 4. Cost: 25.43\n",
      "Brick 22 assigned to SR 4. Cost: 0.0\n"
     ]
    }
   ],
   "source": [
    "if status == pywraplp.Solver.OPTIMAL or status == pywraplp.Solver.FEASIBLE:\n",
    "    print(f\"Total cost = {solver.Objective().Value()}\\n\")\n",
    "    for brick in range(num_bricks):\n",
    "        for sr in range(num_sr):\n",
    "            if x[brick, sr].solution_value():\n",
    "                print(\n",
    "                    f\"Brick {brick + 1} assigned to SR {sr + 1}.\"\n",
    "                    + f\" Cost: {distances_matrix[brick][sr]}\"\n",
    "                )\n",
    "else:\n",
    "    print(\"No solution found.\")\n"
   ]
  },
  {
   "cell_type": "markdown",
   "metadata": {},
   "source": [
    "## CPModel style"
   ]
  },
  {
   "cell_type": "code",
   "execution_count": 124,
   "metadata": {},
   "outputs": [],
   "source": [
    "model = cp_model.CpModel()"
   ]
  },
  {
   "cell_type": "code",
   "execution_count": 125,
   "metadata": {},
   "outputs": [],
   "source": [
    "# Values for constraints\n",
    "num_sr = 4\n",
    "min_workload = 0.8\n",
    "max_workload = 1.2\n",
    "init_state_matrix = create_init_assign_matrix(assignment)\n",
    "index_value_matrix = create_index_value_matrix(workload)\n",
    "for i in range(len(index_value_matrix)):\n",
    "    for j in range(len(index_value_matrix[0])):\n",
    "        index_value_matrix[i][j] = int(index_value_matrix[i][j] * 10000)\n",
    "distances_matrix = create_distances_matrix(distances)\n",
    "for i in range(len(distances_matrix)):\n",
    "    for j in range(len(distances_matrix[0])):\n",
    "        distances_matrix[i][j] = int(distances_matrix[i][j] * 100)\n",
    "hq_bricks = [[0,3],[1,13],[2,15],[3,21]]\n",
    "num_bricks = len(distances_matrix)\n",
    "\n",
    "# Boolean variables\n",
    "x = {}\n",
    "for brick in range(num_bricks):\n",
    "    for sr in range(num_sr):\n",
    "        x[brick, sr] = model.new_bool_var(f\"x[{brick},{sr}]\")\n",
    "\n",
    "# Add constraints\n",
    "# One brick to one SR and one SR to one brick\n",
    "for brick in range(num_bricks):\n",
    "    model.add_exactly_one(x[brick, sr] for sr in range(num_sr))\n",
    "\n",
    "# The cental brick for an SR cannot change\n",
    "hq_vars = []\n",
    "for hq in hq_bricks:\n",
    "    hq_vars.append(x[hq[1],hq[0]])\n",
    "model.add(sum(hq_vars) == 4)\n",
    "\n",
    "# Balance workload (min and max)\n",
    "for sr in range(num_sr):\n",
    "    model.add(sum(index_value_matrix[brick][sr] * x[brick,sr] for brick in range(num_bricks)) >= int(min_workload * 10000))\n",
    "    model.add(sum(index_value_matrix[brick][sr] * x[brick,sr] for brick in range(num_bricks)) <= int(max_workload * 10000))"
   ]
  },
  {
   "cell_type": "code",
   "execution_count": 126,
   "metadata": {},
   "outputs": [],
   "source": [
    "objective_terms = []\n",
    "for brick in range(num_bricks):\n",
    "    for sr in range(num_sr):\n",
    "        objective_terms.append(distances_matrix[brick][sr] * x[brick, sr])\n",
    "model.minimize(sum(objective_terms))"
   ]
  },
  {
   "cell_type": "code",
   "execution_count": 127,
   "metadata": {},
   "outputs": [
    {
     "name": "stdout",
     "output_type": "stream",
     "text": [
      "4\n"
     ]
    }
   ],
   "source": [
    "solver = cp_model.CpSolver()\n",
    "status = solver.solve(model)\n",
    "print(status)"
   ]
  },
  {
   "cell_type": "code",
   "execution_count": 128,
   "metadata": {},
   "outputs": [],
   "source": [
    "# Number of reassignments (upper bound for 2nd opti)\n",
    "new_objective = 0"
   ]
  },
  {
   "cell_type": "code",
   "execution_count": 129,
   "metadata": {},
   "outputs": [
    {
     "name": "stdout",
     "output_type": "stream",
     "text": [
      "Total cost = 154.6\n",
      "\n",
      "Brick 1 assigned to SR 4. Cost = 21.12\n",
      "Brick 2 assigned to SR 4. Cost = 17.32\n",
      "Brick 3 assigned to SR 4. Cost = 12.25\n",
      "Brick 4 assigned to SR 1. Cost = 0.0\n",
      "Brick 5 assigned to SR 1. Cost = 3.07\n",
      "Brick 6 assigned to SR 1. Cost = 1.22\n",
      "Brick 7 assigned to SR 1. Cost = 2.8\n",
      "Brick 8 assigned to SR 1. Cost = 2.87\n",
      "Brick 9 assigned to SR 1. Cost = 3.8\n",
      "Brick 10 assigned to SR 3. Cost = 4.37\n",
      "Brick 11 assigned to SR 2. Cost = 3.51\n",
      "Brick 12 assigned to SR 1. Cost = 21.99\n",
      "Brick 13 assigned to SR 2. Cost = 3.28\n",
      "Brick 14 assigned to SR 2. Cost = 0.0\n",
      "Brick 15 assigned to SR 3. Cost = 1.11\n",
      "Brick 16 assigned to SR 3. Cost = 0.0\n",
      "Brick 17 assigned to SR 3. Cost = 1.08\n",
      "Brick 18 assigned to SR 2. Cost = 0.77\n",
      "Brick 19 assigned to SR 1. Cost = 11.13\n",
      "Brick 20 assigned to SR 1. Cost = 17.48\n",
      "Brick 21 assigned to SR 4. Cost = 25.43\n",
      "Brick 22 assigned to SR 4. Cost = 0.0\n"
     ]
    }
   ],
   "source": [
    "if status == cp_model.OPTIMAL or status == cp_model.FEASIBLE:\n",
    "    print(f\"Total cost = {solver.objective_value/100}\\n\")\n",
    "    for brick in range(num_bricks):\n",
    "        for sr in range(num_sr):\n",
    "            if solver.boolean_value(x[brick, sr]):\n",
    "                new_objective += (1 - 2*init_state_matrix[brick][sr] + init_state_matrix[brick][sr])\n",
    "                print(\n",
    "                    f\"Brick {brick + 1} assigned to SR {sr + 1}.\"\n",
    "                    + f\" Cost = {distances_matrix[brick][sr]/100}\"\n",
    "                )\n",
    "else:\n",
    "    print(\"No solution found.\")"
   ]
  },
  {
   "cell_type": "code",
   "execution_count": 130,
   "metadata": {},
   "outputs": [],
   "source": [
    "# Adding hints as constraints\n",
    "for brick in range(num_bricks):\n",
    "    for sr in range(num_sr):\n",
    "        model.add_hint(x[brick, sr], solver.Value(x[brick, sr]))"
   ]
  },
  {
   "cell_type": "code",
   "execution_count": 131,
   "metadata": {},
   "outputs": [],
   "source": [
    "# Num of reassignments should be at least lower than the upper bound\n",
    "for brick in range(num_bricks):\n",
    "    model.add(sum(x[brick, sr] - 2*x[brick, sr]*init_state_matrix[brick][sr] + init_state_matrix[brick][sr] for sr in range(num_sr)) <= round(new_objective))"
   ]
  },
  {
   "cell_type": "code",
   "execution_count": 132,
   "metadata": {},
   "outputs": [],
   "source": [
    "# Minimizing reassignments\n",
    "objective_terms_2 = []\n",
    "for brick in range(num_bricks):\n",
    "    for sr in range(num_sr):\n",
    "        objective_terms_2.append(x[brick, sr] - 2*x[brick, sr]*init_state_matrix[brick][sr] + init_state_matrix[brick][sr])\n",
    "model.minimize(sum(objective_terms_2))"
   ]
  },
  {
   "cell_type": "code",
   "execution_count": 133,
   "metadata": {},
   "outputs": [
    {
     "name": "stdout",
     "output_type": "stream",
     "text": [
      "4\n"
     ]
    }
   ],
   "source": [
    "solver = cp_model.CpSolver()\n",
    "status = solver.solve(model)\n",
    "print(status)"
   ]
  },
  {
   "cell_type": "code",
   "execution_count": 134,
   "metadata": {},
   "outputs": [
    {
     "name": "stdout",
     "output_type": "stream",
     "text": [
      "Total cost = 1.0\n",
      "\n",
      "Brick 1 assigned to SR 4. Cost = 0.0\n",
      "Brick 2 assigned to SR 4. Cost = 0.0\n",
      "Brick 3 assigned to SR 4. Cost = 0.0\n",
      "Brick 4 assigned to SR 1. Cost = 0.0\n",
      "Brick 5 assigned to SR 1. Cost = 0.0\n",
      "Brick 6 assigned to SR 1. Cost = 0.0\n",
      "Brick 7 assigned to SR 1. Cost = 0.0\n",
      "Brick 8 assigned to SR 1. Cost = 0.0\n",
      "Brick 9 assigned to SR 3. Cost = 0.0\n",
      "Brick 10 assigned to SR 3. Cost = 0.5\n",
      "Brick 11 assigned to SR 2. Cost = 0.0\n",
      "Brick 12 assigned to SR 2. Cost = 0.0\n",
      "Brick 13 assigned to SR 2. Cost = 0.0\n",
      "Brick 14 assigned to SR 2. Cost = 0.0\n",
      "Brick 15 assigned to SR 1. Cost = 0.0\n",
      "Brick 16 assigned to SR 3. Cost = 0.0\n",
      "Brick 17 assigned to SR 3. Cost = 0.0\n",
      "Brick 18 assigned to SR 3. Cost = 0.0\n",
      "Brick 19 assigned to SR 4. Cost = 0.0\n",
      "Brick 20 assigned to SR 4. Cost = 0.0\n",
      "Brick 21 assigned to SR 4. Cost = 0.0\n",
      "Brick 22 assigned to SR 4. Cost = 0.0\n"
     ]
    }
   ],
   "source": [
    "if status == cp_model.OPTIMAL or status == cp_model.FEASIBLE:\n",
    "    print(f\"Total cost = {solver.objective_value/2}\\n\")\n",
    "    for brick in range(num_bricks):\n",
    "        for sr in range(num_sr):\n",
    "            if solver.boolean_value(x[brick, sr]):\n",
    "                print(\n",
    "                    f\"Brick {brick + 1} assigned to SR {sr + 1}.\"\n",
    "                    + f\" Cost = {(1 - 2*init_state_matrix[brick][sr] + init_state_matrix[brick][sr])/2}\"\n",
    "                )\n",
    "else:\n",
    "    print(\"No solution found.\")"
   ]
  },
  {
   "cell_type": "code",
   "execution_count": null,
   "metadata": {},
   "outputs": [],
   "source": []
  }
 ],
 "metadata": {
  "kernelspec": {
   "display_name": "Python 3 (ipykernel)",
   "language": "python",
   "name": "python3"
  },
  "language_info": {
   "codemirror_mode": {
    "name": "ipython",
    "version": 3
   },
   "file_extension": ".py",
   "mimetype": "text/x-python",
   "name": "python",
   "nbconvert_exporter": "python",
   "pygments_lexer": "ipython3",
   "version": "3.12.6"
  }
 },
 "nbformat": 4,
 "nbformat_minor": 4
}
